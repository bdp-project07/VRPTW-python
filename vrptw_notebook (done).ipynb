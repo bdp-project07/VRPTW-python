{
  "nbformat": 4,
  "nbformat_minor": 0,
  "metadata": {
    "colab": {
      "provenance": [],
      "collapsed_sections": [
        "tVoAlTQ35e-2",
        "0ovMyWwb53nJ",
        "c6r8i_kF6Ccx",
        "0UnqVI0pBa-T",
        "29zFi3QoFAAX",
        "Fd41W5JNiotS",
        "3TfQHXVOjM3f",
        "GnjTEGqQdR1E",
        "EC0KoLezjWva",
        "6f-31GH8w3Yz",
        "K9lGIczCz7bV",
        "XHCrYerM_hOX"
      ]
    },
    "kernelspec": {
      "name": "python3",
      "display_name": "Python 3"
    },
    "language_info": {
      "name": "python"
    }
  },
  "cells": [
    {
      "cell_type": "markdown",
      "source": [
        "**<h1>Vehicles Routing Problem (VRP) with Time Windows</h1>**\n",
        "\n",
        "---\n",
        "\n"
      ],
      "metadata": {
        "id": "tiXcJIDT4Nuh"
      }
    },
    {
      "cell_type": "markdown",
      "source": [
        "## **I. Persiapan**"
      ],
      "metadata": {
        "id": "tVoAlTQ35e-2"
      }
    },
    {
      "cell_type": "markdown",
      "source": [
        "### I.1 Memasang *library* (pustaka) yang diperlukan"
      ],
      "metadata": {
        "id": "0ovMyWwb53nJ"
      }
    },
    {
      "cell_type": "code",
      "execution_count": null,
      "metadata": {
        "colab": {
          "base_uri": "https://localhost:8080/"
        },
        "id": "7bufFMdfzAHM",
        "outputId": "04605496-2408-478c-84ed-3b6dfe943d7a"
      },
      "outputs": [
        {
          "output_type": "stream",
          "name": "stdout",
          "text": [
            "Collecting ortools\n",
            "  Downloading ortools-9.6.2534-cp310-cp310-manylinux_2_17_x86_64.manylinux2014_x86_64.whl (16.4 MB)\n",
            "\u001b[2K     \u001b[90m━━━━━━━━━━━━━━━━━━━━━━━━━━━━━━━━━━━━━━━━\u001b[0m \u001b[32m16.4/16.4 MB\u001b[0m \u001b[31m59.6 MB/s\u001b[0m eta \u001b[36m0:00:00\u001b[0m\n",
            "\u001b[?25hRequirement already satisfied: absl-py>=0.13 in /usr/local/lib/python3.10/dist-packages (from ortools) (1.4.0)\n",
            "Requirement already satisfied: numpy>=1.13.3 in /usr/local/lib/python3.10/dist-packages (from ortools) (1.22.4)\n",
            "Collecting protobuf>=4.21.12 (from ortools)\n",
            "  Downloading protobuf-4.23.4-cp37-abi3-manylinux2014_x86_64.whl (304 kB)\n",
            "\u001b[2K     \u001b[90m━━━━━━━━━━━━━━━━━━━━━━━━━━━━━━━━━━━━━━\u001b[0m \u001b[32m304.5/304.5 kB\u001b[0m \u001b[31m30.6 MB/s\u001b[0m eta \u001b[36m0:00:00\u001b[0m\n",
            "\u001b[?25hRequirement already satisfied: scipy>=1.10.0 in /usr/local/lib/python3.10/dist-packages (from ortools) (1.10.1)\n",
            "Installing collected packages: protobuf, ortools\n",
            "  Attempting uninstall: protobuf\n",
            "    Found existing installation: protobuf 3.20.3\n",
            "    Uninstalling protobuf-3.20.3:\n",
            "      Successfully uninstalled protobuf-3.20.3\n",
            "Successfully installed ortools-9.6.2534 protobuf-4.23.4\n"
          ]
        }
      ],
      "source": [
        "# Installing library\n",
        "!pip install ortools"
      ]
    },
    {
      "cell_type": "markdown",
      "source": [
        "### I.2 Daftar modul yang diperlukan"
      ],
      "metadata": {
        "id": "c6r8i_kF6Ccx"
      }
    },
    {
      "cell_type": "markdown",
      "source": [
        "Daftar *Library*\n",
        "\n",
        "No.| Pustaka    | Deskripsi |\n",
        "---|:-----------|:----------|\n",
        "1. | Ortools    |OR-Tools adalah sebuah perpustakaan perangkat<br>lunak open-source yang dikembangkan oleh Google.<br>Ini menyediakan berbagai algoritma dan alat untuk<br>pemecahan masalah optimisasi diskrit.<br><br>OR-Tools mendukung berbagai masalah optimisasi,<br> termasuk penjadwalan, routing, pemilihan rute,<br> pemecahan masalah tata letak, pemecahan masalah produksi,<br> pemecahan masalah jadwal kru, dan banyak lagi. Ini menawarkan<br>algoritma yang efisien dan kuat untuk menyelesaikan masalah<br>ini dengan cepat dan akurat.|\n",
        "2. | Matplotlib |Matplotlib adalah perpustakaan visualisasi data yang populer<br> dan kuat dalam bahasa pemrograman Python. Perpustakaan ini<br> menyediakan berbagai fungsi dan alat untuk membuat grafik,<br> plot, dan visualisasi data dengan mudah.|\n",
        "3. | Numpy |\n",
        "\n",
        "<br>\n",
        "\n",
        "Daftar Modul\n",
        "\n",
        "No.| Modul    | Deskripsi |\n",
        "---|:-----------|:----------|\n",
        "1. | ortools.constraint_solver.**routing_enums_pb2()**|Modul ini memungkinkan pengguna untuk mengakses berbagai jenis enumerasi<br> yang digunakan dalam pemecahan masalah routing dengan cara yang mudah<br> dan konsisten. Misalnya, pengguna dapat menggunakan enumerasi untuk mengatur<br>jenis algoritma pencarian yang akan digunakan (seperti algoritma TSP atau VRP)<br>atau untuk mengatur jenis strategi penjadwalan (seperti STRATEGY_BEST_INSERTION<br>atau STRATEGY_PARALLEL_CHEAPEST_INSERTION).|\n",
        "2. | ortools.constraint_solver.**pywrapcp()** |Modul ini menyediakan kelas-kelas dan fungsi yang dapat digunakan untuk membuat <br> dan mengelola variabel, batasan, dan tujuan optimisasi, serta untuk menjalankan pemecahan<br> masalah constraint programming. Pengguna dapat mendefinisikan variabel dengan tipe data<br>yang sesuai, seperti integer, boolean, atau daftar, dan dapat menentukan batasan dan tujuan <br>optimisasi yang relevan dengan masalah yang ingin mereka pecahkan.|\n",
        "3. | matplotlib.**pyplot()** |Bagian dari perpustakaan visualisasi data Matplotlib dalam bahasa pemrograman Python.<br>Modul ini memberikan antarmuka yang mudah digunakan untuk membuat grafik, plot, dan<br>visualisasi data.|"
      ],
      "metadata": {
        "id": "HuuBJJXz6Zb5"
      }
    },
    {
      "cell_type": "code",
      "source": [
        "# Importing module\n",
        "\n",
        "# Ortools from google\n",
        "from ortools.constraint_solver import routing_enums_pb2\n",
        "from ortools.constraint_solver import pywrapcp\n",
        "\n",
        "# Matplotlib\n",
        "import matplotlib.pyplot as plt\n",
        "\n",
        "# Numpy\n",
        "import numpy as np"
      ],
      "metadata": {
        "id": "CpFvvEKf3xiU"
      },
      "execution_count": null,
      "outputs": []
    },
    {
      "cell_type": "markdown",
      "source": [
        "### I.3 Membuat *Solver* untuk *Vehicle Routing Problem with Time Windows*\n",
        "\n",
        "*Solver* dibuat menggunakan konsep OOP (Object Orientation Programming) dengan cara membuat Solver menjadi sebuah objek."
      ],
      "metadata": {
        "id": "0UnqVI0pBa-T"
      }
    },
    {
      "cell_type": "code",
      "source": [
        "# Membuat object Solver\n",
        "# list atribut: time_matrix, time_windows, num_vehicle, max_time, dan solution\n",
        "# list method: create_routing_model(), solve(), plot_route(), dan print_solution()\n",
        "\n",
        "# Objek Solver\n",
        "class VrptwSolver():\n",
        "\n",
        "  def __init__(self, time_matrix, time_windows, num_vehicles, loc_coordinate=None, label=None):\n",
        "    \"\"\"Parameter\n",
        "    time_matrix: Data waktu antar lokasi.\n",
        "    time_windows: Data jendela waktu setiap lokasi. [(waktu_awal, waktu_akhir)]\n",
        "    num_vehicles: Banyak kendaraan yang diinisiasi.\n",
        "    loc_coordinate: Koordinat tiap lokasi. (opsional)\n",
        "    \"\"\"\n",
        "    self.time_matrix = time_matrix\n",
        "    self.time_windows = time_windows\n",
        "    self.num_vehicles = num_vehicles\n",
        "    self.loc_coordinate = loc_coordinate\n",
        "    self.label = label\n",
        "    self.depot = 0 # Indeks depot\n",
        "    self.solution = None # Variabel untuk menyimpan solusi yang sudah tergenerate.\n",
        "    self.solution_dict = {} # Variabel untuk menyimpan solusi yang sudah tergenerate dalam bentuk dictionary\n",
        "    self.routing = None # Variabel untuk menyimpan model routing.\n",
        "    self.manager = None # Variabel untuk menyimpan manager routing.\n",
        "\n",
        "\n",
        "  def create_routing_model(self, max_time, waiting_time=0):\n",
        "    \"\"\"Parameter\n",
        "    max_time: Batas waktu tunggu kendaraan di suatu lokasi sebelum dapat melakukan perjalanan.\n",
        "    waiting_time: Batas waktu tunggu kendaraan di suatu lokasi sebelum dapat melakukan perjalanan. (default=0)\n",
        "    \"\"\"\n",
        "\n",
        "    # Membuat Routing Indeks Manager.\n",
        "    # Berfungsi untuk melakukan pemetaan antara indeks dan entitas dalam masalah rute.\n",
        "    # Misalnya, dalam masalah perencanaan perjalanan, kita mungkin memiliki daftar lokasi yang harus dikunjungi.\n",
        "    # Modul ini membantu kita mengatur dan mengelola indeks untuk setiap lokasi dalam daftar tersebut.\n",
        "    self.manager = pywrapcp.RoutingIndexManager(len(self.time_matrix),\n",
        "                                                self.num_vehicles,\n",
        "                                                self.depot)\n",
        "\n",
        "    # Membuat model perencanaan perjalanan.\n",
        "    self.routing = pywrapcp.RoutingModel(self.manager)\n",
        "\n",
        "    # Membuat rute transit dan menghubungkan fungsi transit kustom dengan model rute atau perencanaan perjalanan.\n",
        "    transit_callback_index = self.routing.RegisterTransitCallback(\n",
        "        lambda from_index, to_index: self.time_matrix[self.manager.IndexToNode(from_index)][self.manager.IndexToNode(to_index)])\n",
        "\n",
        "    # Perhitungan biaya perjalanan (dalam waktu).\n",
        "    self.routing.SetArcCostEvaluatorOfAllVehicles(transit_callback_index)\n",
        "\n",
        "    # Menambahkan batas waktu kendaraan pada model.\n",
        "    time = 'Time' # Label\n",
        "    self.routing.AddDimension(\n",
        "        transit_callback_index, # Rute Transit\n",
        "        waiting_time,  # Batas waktu tunggu kendaraan di suatu lokasi sebelum dapat melakukan perjalanan.\n",
        "        max_time,  # Batasan waktu maksimum yang diizinkan pada setiap kendaraan untuk menyelesaikan seluruh rute kendaraan.\n",
        "        False,  # waktu awal dimulai dari nol (True: ya, False: Tidak)\n",
        "        time)\n",
        "    time_dimension = self.routing.GetDimensionOrDie(time)\n",
        "\n",
        "    # Menambahkan batasan jendela waktu setiap lokasi kecuali depot pada model\n",
        "    for location_idx, time_window in enumerate(self.time_windows):\n",
        "        if location_idx == self.depot: # Jika indeks = indeks depot maka program dilanjutkan\n",
        "            continue\n",
        "        index = self.manager.NodeToIndex(location_idx) # Melakukan mapping indeks\n",
        "        time_dimension.CumulVar(index).SetRange(time_window[0], time_window[1]) # Memastikan bahwa waktu kumulatif perjalanan tidak melebihi jendela waktu yang ditentukan\n",
        "\n",
        "    # Menambahkan batasan jendela waktu untuk setiap simpul start kendaraan.\n",
        "    depot_idx = self.depot\n",
        "    for vehicle_id in range(self.num_vehicles):\n",
        "        index = self.routing.Start(vehicle_id)\n",
        "        time_dimension.CumulVar(index).SetRange(\n",
        "            self.time_windows[depot_idx][0],\n",
        "            self.time_windows[depot_idx][1])\n",
        "\n",
        "    # Instansiasi waktu mulai dan akhir rute untuk menghasilkan waktu yang layak\n",
        "    for i in range(self.num_vehicles):\n",
        "        self.routing.AddVariableMinimizedByFinalizer(time_dimension.CumulVar(self.routing.Start(i)))\n",
        "        self.routing.AddVariableMinimizedByFinalizer(time_dimension.CumulVar(self.routing.End(i)))\n",
        "\n",
        "\n",
        "  def print_solution(self):\n",
        "    \"\"\"Print Solution\"\"\"\n",
        "    print(f'Objective: {self.solution.ObjectiveValue()}')\n",
        "    print(\"\")\n",
        "    time_dimension = self.routing.GetDimensionOrDie('Time') # Mengambil data waktu\n",
        "    total_time = 0 # Total waktu perjalanan awal\n",
        "\n",
        "    # Mengambil data rute tiap kendaraan\n",
        "    for vehicle_id in range(self.num_vehicles):\n",
        "      index = self.routing.Start(vehicle_id)\n",
        "      plan_output = 'Route for vehicle {}:\\n'.format(vehicle_id)\n",
        "      route = [] # Daftar rute setiap kendaraan\n",
        "      while not self.routing.IsEnd(index):\n",
        "        route.append(self.manager.IndexToNode(index)) # Mengambil indeks lokasi\n",
        "        time_var = time_dimension.CumulVar(index)\n",
        "        # Mengambil nilai waktu awal dan waktu akhir\n",
        "        plan_output += '{0} Time({1},{2}) -> '.format(\n",
        "            self.label_map(self.manager.IndexToNode(index)),\n",
        "            self.solution.Min(time_var),\n",
        "            self.solution.Max(time_var))\n",
        "        index = self.solution.Value(self.routing.NextVar(index))\n",
        "\n",
        "      self.solution_dict[vehicle_id] = route\n",
        "      time_var = time_dimension.CumulVar(index)\n",
        "      plan_output += '{0} Time({1},{2})\\n'.format(self.label_map(self.manager.IndexToNode(index)),\n",
        "                                                  self.solution.Min(time_var),\n",
        "                                                  self.solution.Max(time_var))\n",
        "      plan_output += 'Time of the route: {}min\\n'.format(self.solution.Min(time_var))\n",
        "      print(plan_output)\n",
        "      total_time += self.solution.Min(time_var)\n",
        "\n",
        "\n",
        "    print('Total time of all routes: {}min'.format(total_time))\n",
        "\n",
        "\n",
        "  def plot_route(self, arrow_size=0.1):\n",
        "    # Membuat visualisasi\n",
        "    X = np.array([x[0] for x in self.loc_coordinate])\n",
        "    Y = np.array([x[1] for x in self.loc_coordinate])\n",
        "\n",
        "    plt.figure(figsize=(8, 6))\n",
        "\n",
        "    plt.plot(X, Y, 'ko')\n",
        "    plt.plot(X[0], Y[0], 'bX', markersize=10)\n",
        "\n",
        "    for i, txt in enumerate(self.loc_coordinate):\n",
        "      plt.text(X[i] + 0.03, Y[i] + 0.03, f\"{self.label_map(i)}\")\n",
        "\n",
        "    vehicle_colors = [\"g\",\"r\", \"m\", \"c\",\"y\"]\n",
        "    for vehicle in self.solution_dict:\n",
        "      X_veh = X[self.solution_dict[vehicle]]\n",
        "      Y_veh = Y[self.solution_dict[vehicle]]\n",
        "\n",
        "      if len(X_veh) > 1:\n",
        "        plt.plot(X_veh, Y_veh, f'{vehicle_colors[vehicle]}', label=f'vehicle - {vehicle}')\n",
        "        for i in range(len(X_veh)-1):\n",
        "          plt.arrow(X_veh[i], Y_veh[i], X_veh[i+1]-X_veh[i], Y_veh[i+1]-Y_veh[i], length_includes_head=True,\n",
        "                    head_width=arrow_size, head_length=arrow_size, color=vehicle_colors[vehicle])\n",
        "\n",
        "        plt.arrow(X_veh[-1], Y_veh[-1], X_veh[0]-X_veh[-1], Y_veh[0]-Y_veh[-1], length_includes_head=True,\n",
        "                    head_width=arrow_size, head_length=arrow_size, color=vehicle_colors[vehicle])\n",
        "\n",
        "    plt.legend()\n",
        "    plt.grid(True)\n",
        "    plt.title(\"Rute Perjalanan\")\n",
        "    plt.show()\n",
        "\n",
        "\n",
        "  def solve(self):\n",
        "    # Searching Parameter\n",
        "    # DefaultRoutingSearchParameters() -> Menggunakan parameter default untuk melakukan proses pencarian\n",
        "    # Strategi pencarian solusi awal = PATH_CHEAPEST_ARC -> Memilih busur dengan biaya paling murah dan membangun rute secara berurutan berdasarkan busur-busur tersebut.\n",
        "    search_parameters = pywrapcp.DefaultRoutingSearchParameters()\n",
        "    search_parameters.first_solution_strategy = (routing_enums_pb2.FirstSolutionStrategy.PATH_CHEAPEST_ARC)\n",
        "\n",
        "    # Proses pencarian solusi optimal\n",
        "    self.solution = self.routing.SolveWithParameters(search_parameters)\n",
        "\n",
        "    # Tampilkan solusi jika solusi ditemukan\n",
        "    if self.solution:\n",
        "      self.print_solution()\n",
        "    else:\n",
        "      print(\"\"\"\n",
        "      Tidak ada solusi !\n",
        "\n",
        "      Saran:\n",
        "      Anda dapat menambahkan jendela waktu, waktu maksimum perjalanan tiap kendaraan atau\n",
        "      menambah jumlah kendaraan.\"\"\")\n",
        "\n",
        "  def label_map(self, index):\n",
        "    '''Mengubah indeks menjadi label yang diinginkan'''\n",
        "    return self.label[index]\n",
        "\n"
      ],
      "metadata": {
        "id": "dLtZ0aiMC2xV"
      },
      "execution_count": null,
      "outputs": []
    },
    {
      "cell_type": "markdown",
      "source": [
        "### I.4 Referensi koordinat tiap titik lokasi"
      ],
      "metadata": {
        "id": "29zFi3QoFAAX"
      }
    },
    {
      "cell_type": "markdown",
      "source": [
        "Titik lokasi disesuaikan dengan gambar graph yang ada di Bab4. Titik koordinat dibuat menggunakan geogebra dengan memanfaatkan gambar yang telah dibuat. Link geogera.\n",
        "\n",
        "- A1: https://www.geogebra.org/m/b2bwgjgk\n",
        "- A2: https://www.geogebra.org/m/stxdfajp\n",
        "- A4: https://www.geogebra.org/m/gvver8ty\n",
        "- A5: https://www.geogebra.org/m/qeufzdm2\n",
        "- B1: https://www.geogebra.org/m/pxdgk7re"
      ],
      "metadata": {
        "id": "K_9kgw_hFOAA"
      }
    },
    {
      "cell_type": "markdown",
      "source": [
        "## **II. Contoh Penggunaan objek VrptwSolver**"
      ],
      "metadata": {
        "id": "Fd41W5JNiotS"
      }
    },
    {
      "cell_type": "markdown",
      "source": [
        "### Data yang perlu disiapkan\n",
        "\n",
        "\n"
      ],
      "metadata": {
        "id": "3TfQHXVOjM3f"
      }
    },
    {
      "cell_type": "markdown",
      "source": [
        "***Time Matrix***<br>\n",
        "Matrix data waktu tempuh antar lokasi. contoh:"
      ],
      "metadata": {
        "id": "OCNkWfqDhbyr"
      }
    },
    {
      "cell_type": "code",
      "source": [
        "time_matrix = [\n",
        "  [0, 18, 15],\n",
        "  [18, 0, 3],\n",
        "  [15, 3, 0],\n",
        "]"
      ],
      "metadata": {
        "id": "dQM5hV0rfRYf"
      },
      "execution_count": null,
      "outputs": []
    },
    {
      "cell_type": "markdown",
      "source": [
        "***Time Windows***<br>\n",
        "Data jendela waktu tiap lokasi."
      ],
      "metadata": {
        "id": "wcJVPetffH2O"
      }
    },
    {
      "cell_type": "code",
      "source": [
        "time_windows = [\n",
        "  # (waktu kedatangan awal, waktu kedatangan akhir)\n",
        "  (0, 60), # Depot\n",
        "  (15, 120), # Lokasi 1\n",
        "  (0, 30), # Lokasi 2\n",
        "]"
      ],
      "metadata": {
        "id": "5nTuw0g2fL57"
      },
      "execution_count": null,
      "outputs": []
    },
    {
      "cell_type": "markdown",
      "source": [
        "\n",
        "\n",
        "Jendela waktu terdiri dari dua komponen: waktu kedatangan awal (earliest arrival time) dan waktu kedatangan akhir (latest arrival time). Waktu kedatangan awal menunjukkan waktu minimum ketika kendaraan dapat tiba di pelanggan, sementara waktu kedatangan akhir menunjukkan waktu maksimum ketika kendaraan harus tiba di pelanggan.\n",
        "\n",
        "**Penjelasan**<br>\n",
        "Jika waktu didefinisikan dalam bentuk menit, maka nilai time windows diatas adalah +menit dari waktu awal perjalanan.<br>\n",
        "Contoh:<br>\n",
        "Lokasi 1 mempunyai jendela waktu 15 (waktu awal) hingga 120 (waktu akhir). Misal memulai rute perjalanan pada pukul 9AM, maka waktu diperbolehkannya kendaraan masuk Lokasi 1 yaitu diantara pukul 9.15 AM (9 jam + 15 menit) hingga 11 AM (9 Jam + 120 menit(2 jam))."
      ],
      "metadata": {
        "id": "7lHt33cJfMIO"
      }
    },
    {
      "cell_type": "markdown",
      "source": [
        "***Number Vehicle***<br>\n",
        "Number of Vehicles (jumlah kendaraan) adalah parameter yang menentukan berapa banyak kendaraan yang tersedia untuk digunakan dalam merencanakan rute pengiriman atau distribusi. Setiap kendaraan akan diberikan tugas untuk mengunjungi pelanggan dan memenuhi jendela waktu yang ditetapkan."
      ],
      "metadata": {
        "id": "kF5hmxqAh8Dy"
      }
    },
    {
      "cell_type": "code",
      "source": [
        "num_vehicles = 2"
      ],
      "metadata": {
        "id": "C0bYPl0qe-s7"
      },
      "execution_count": null,
      "outputs": []
    },
    {
      "cell_type": "markdown",
      "source": [
        "Fungsi Number of Vehicles dalam VRPTW adalah untuk memaksimalkan efisiensi operasional dengan meminimalkan biaya dan waktu pengiriman. Jika jumlah kendaraan terlalu sedikit, maka kendaraan akan terlalu padat dan tidak dapat mengunjungi semua pelanggan dalam waktu yang efisien. Sebaliknya, jika jumlah kendaraan terlalu banyak, itu bisa mengakibatkan biaya operasional yang tinggi dan penggunaan sumber daya yang tidak efisien.\n",
        "\n",
        "Dalam merencanakan rute kendaraan dalam VRPTW, tujuan utamanya adalah mengoptimalkan penggunaan kendaraan yang tersedia dan memastikan bahwa semua pelanggan dapat dilayani dengan efisien dalam batasan waktu yang ditentukan. Oleh karena itu, pemilihan Number of Vehicles yang tepat menjadi penting dalam mencapai solusi yang baik dan optimal."
      ],
      "metadata": {
        "id": "VvSNsOTDfBHs"
      }
    },
    {
      "cell_type": "markdown",
      "source": [
        "***Location Coordinate***<br>\n",
        "Koordinat lokasi.\n"
      ],
      "metadata": {
        "id": "abwB8mGBdTx3"
      }
    },
    {
      "cell_type": "code",
      "source": [
        "loc_coor = [\n",
        "  (2, 3),\n",
        "  (4, 5),\n",
        "  (5, 3)\n",
        "]"
      ],
      "metadata": {
        "id": "ZBS4QqZRe7ZP"
      },
      "execution_count": null,
      "outputs": []
    },
    {
      "cell_type": "markdown",
      "source": [
        "*Label location*\n",
        "\n",
        "Label tiap titik lokasi\n"
      ],
      "metadata": {
        "id": "hQ4cjPd6ICTx"
      }
    },
    {
      "cell_type": "code",
      "source": [
        "label = ['Depot', 1, 2, 3]"
      ],
      "metadata": {
        "id": "4uEsjS6FINbi"
      },
      "execution_count": null,
      "outputs": []
    },
    {
      "cell_type": "markdown",
      "source": [
        "*Max time per vehicle*\n",
        "\n",
        "Maksimal waktu per kendaraan mengacu pada batasan waktu maksimum yang diizinkan untuk satu kendaraan dalam melakukan perjalanan sebelum harus kembali ke depot."
      ],
      "metadata": {
        "id": "ca3v9D5MIhVh"
      }
    },
    {
      "cell_type": "code",
      "source": [
        "max_time_per_vehicle = 60 # 60 minutes"
      ],
      "metadata": {
        "id": "IjzR61dSIxix"
      },
      "execution_count": null,
      "outputs": []
    },
    {
      "cell_type": "markdown",
      "source": [
        "### Flows analisa\n",
        "\n",
        "List method dari objek yang dibuat\n",
        "- `VrptwSolver()` -> Membuat objek data model\n",
        "- `VrptwSolver.create_routing_model()` -> Membuat model rute perjalanan\n",
        "- `VrptwSolver.solve()` -> Optimisasi rute terbaik\n",
        "- `Vrptw.plot_route()` -> Membuat visualisasi rute\n"
      ],
      "metadata": {
        "id": "GnjTEGqQdR1E"
      }
    },
    {
      "cell_type": "code",
      "source": [
        "# 1. Membuat objek data model\n",
        "vrptw = VrptwSolver(time_matrix, time_windows, num_vehicles, loc_coor, label)\n",
        "\n",
        "# 2. Membuat model rute perjalanan\n",
        "vrptw.create_routing_model(max_time_per_vehicle)\n",
        "\n",
        "# 3. Mencari rute optimal\n",
        "vrptw.solve()"
      ],
      "metadata": {
        "id": "E-ReHLv0jHi1",
        "colab": {
          "base_uri": "https://localhost:8080/"
        },
        "outputId": "911d8020-f39f-4178-f096-920fe95362ee"
      },
      "execution_count": null,
      "outputs": [
        {
          "output_type": "stream",
          "name": "stdout",
          "text": [
            "Objective: 36\n",
            "\n",
            "Route for vehicle 0:\n",
            "Depot Time(0,0) -> Depot Time(0,0)\n",
            "Time of the route: 0min\n",
            "\n",
            "Route for vehicle 1:\n",
            "Depot Time(0,0) -> 2 Time(15,15) -> 1 Time(18,18) -> Depot Time(36,36)\n",
            "Time of the route: 36min\n",
            "\n",
            "Total time of all routes: 36min\n"
          ]
        }
      ]
    },
    {
      "cell_type": "code",
      "source": [
        "# 4. Membuat visualisasi rute\n",
        "vrptw.plot_route()"
      ],
      "metadata": {
        "colab": {
          "base_uri": "https://localhost:8080/",
          "height": 545
        },
        "id": "vuaOIA3_gnho",
        "outputId": "b9f7cb21-e155-478d-a5f5-6ee0b4ef217a"
      },
      "execution_count": null,
      "outputs": [
        {
          "output_type": "display_data",
          "data": {
            "text/plain": [
              "<Figure size 800x600 with 1 Axes>"
            ],
            "image/png": "[encoded data removed]"
          },
          "metadata": {}
        }
      ]
    },
    {
      "cell_type": "markdown",
      "source": [
        "## **III. Pemecahan Masalah (Contoh)**"
      ],
      "metadata": {
        "id": "LSC-gN66Z8J4"
      }
    },
    {
      "cell_type": "markdown",
      "source": [
        "Contoh permasalahan\n",
        "\n",
        "- Proses evakuasi akan dilaksanakan puku 8 pagi.\n",
        "- Proses evakuasi akan dilaksanakan dengan batas waktu 1 jam dimulai dari keberangkatan awal (8 pagi).\n",
        "- Semua titik lokasi penjemputan harus berhasil dikunjungi dalam waktu 1 jam (Semua titik penjemputan harus dikunjungi dalam rentang waktu jam 8 samapi 9 pagi) - Depot tidak dihitung.\n",
        "- Batas lama perjalanan tiap kendaraa (lama waktu perjalanan dari depot - menuju depot) adalah 1 jam.\n",
        "\n",
        "Tentukan rute optimal dan berapa kendaraan yang dibutuhkan"
      ],
      "metadata": {
        "id": "ZtuYia3HYFVw"
      }
    },
    {
      "cell_type": "markdown",
      "source": [
        "### III.1. Rute Tempat Evakuasi Akhir **Desa Banyu Rejo (A1)**"
      ],
      "metadata": {
        "id": "zmmNgYlwaDUy"
      }
    },
    {
      "cell_type": "markdown",
      "source": [
        "*Data preparation*"
      ],
      "metadata": {
        "id": "OsC7jQycalA3"
      }
    },
    {
      "cell_type": "code",
      "source": [
        "# Time Matrix (in minutes)\n",
        "time_matrix_a1 = [[0, 18, 15, 11, 10, 10, 7],\n",
        "                  [18, 0, 3, 8, 11, 11, 11],\n",
        "                  [15, 3, 0, 5, 8, 8, 8],\n",
        "                  [11, 8, 5, 0, 5, 4, 4],\n",
        "                  [10, 11, 8, 5, 0, 1, 4],\n",
        "                  [10, 11, 8, 4, 1, 0, 4],\n",
        "                  [7, 11, 8, 4, 4, 4, 0]]\n",
        "\n",
        "# Time Windows\n",
        "# Evacuation time -> 8 AM - 9 AM\n",
        "# Evacuation time limit -> 1 hour (60 minutes)\n",
        "# Evacuation time span for each location is the same\n",
        "\n",
        "time_windows_a1 = [\n",
        "    (0, 0),  # depot A1\n",
        "    (0, 60),  # 20\n",
        "    (0, 60),  # 21\n",
        "    (0, 60),  # 22\n",
        "    (0, 60),  # 23\n",
        "    (0, 60),  # 24\n",
        "    (0, 60),  # 25\n",
        "]\n",
        "\n",
        "num_vehicles_a1 = 1\n",
        "\n",
        "max_time_per_vehicle_a1 = 60 # Max time\n",
        "\n",
        "coordinate_loc_a1 = [\n",
        "    (7, 8), # Depot\n",
        "    (9.81,7.01), # 20\n",
        "    (10.55,4.37), # 21\n",
        "    (7.63,2.13), # 22\n",
        "    (4.99,3.13), # 23\n",
        "    (3.38,4.94), # 24\n",
        "    (4.31,7.21) # 25\n",
        "]\n",
        "\n",
        "label_a1 = ['A1', 20, 21, 22, 23, 24, 25]"
      ],
      "metadata": {
        "id": "Ba1XwvitabrX"
      },
      "execution_count": null,
      "outputs": []
    },
    {
      "cell_type": "markdown",
      "source": [
        "*Searching solution*"
      ],
      "metadata": {
        "id": "RHMWNH5shCV5"
      }
    },
    {
      "cell_type": "code",
      "source": [
        "vprtw_a1 = VrptwSolver(time_matrix_a1, time_windows_a1, num_vehicles_a1, coordinate_loc_a1, label_a1) # Membuat objek solver dengan data yang telah ditentukan\n",
        "vprtw_a1.create_routing_model(max_time_per_vehicle) # Membuat model perjalanan dengan batas waktu maksimal penyelesaian tiap kendaraan\n",
        "vprtw_a1.solve()"
      ],
      "metadata": {
        "colab": {
          "base_uri": "https://localhost:8080/"
        },
        "id": "SXle_rSzazh4",
        "outputId": "597c6df8-8740-495c-ecf8-a1af3b9a4140"
      },
      "execution_count": null,
      "outputs": [
        {
          "output_type": "stream",
          "name": "stdout",
          "text": [
            "Objective: 41\n",
            "\n",
            "Route for vehicle 0:\n",
            "A1 Time(0,0) -> 25 Time(7,7) -> 20 Time(18,18) -> 21 Time(21,21) -> 22 Time(26,26) -> 24 Time(30,30) -> 23 Time(31,31) -> A1 Time(41,41)\n",
            "Time of the route: 41min\n",
            "\n",
            "Total time of all routes: 41min\n"
          ]
        }
      ]
    },
    {
      "cell_type": "markdown",
      "source": [
        "*Visualization*"
      ],
      "metadata": {
        "id": "C7lRpzQ5hE9Y"
      }
    },
    {
      "cell_type": "code",
      "source": [
        "vprtw_a1.plot_route(arrow_size=0.2) # arrow_size berfungsi untuk mengatur ukuran mata panah"
      ],
      "metadata": {
        "id": "1jNN_OArOUbK",
        "colab": {
          "base_uri": "https://localhost:8080/",
          "height": 545
        },
        "outputId": "1307e3b1-da05-4c2b-ba55-28c5aa144389"
      },
      "execution_count": null,
      "outputs": [
        {
          "output_type": "display_data",
          "data": {
            "text/plain": [
              "<Figure size 800x600 with 1 Axes>"
            ],
            "image/png": "[encoded data removed]"
          },
          "metadata": {}
        }
      ]
    },
    {
      "cell_type": "markdown",
      "source": [
        "### III.2. Rute Tempat Evakuasi Akhir **GOR Pangukan (A2)**"
      ],
      "metadata": {
        "id": "EC0KoLezjWva"
      }
    },
    {
      "cell_type": "markdown",
      "source": [
        "*Data preparation*"
      ],
      "metadata": {
        "id": "FzXZScH5jv8i"
      }
    },
    {
      "cell_type": "code",
      "source": [
        "# Time Matrix (in minutes)\n",
        "time_matrix_a2 = [\n",
        "    [0, 19, 23, 22, 22, 26, 18, 16, 18],\n",
        "    [19, 0, 8, 4, 4, 12, 5, 14, 9],\n",
        "    [23, 8, 0, 1, 1, 12, 8, 15, 11],\n",
        "    [22, 4, 1, 0, 1, 11, 7, 14, 10],\n",
        "    [22, 4, 1, 1, 0, 11, 7, 14, 10],\n",
        "    [26, 12, 12, 11, 11, 0, 9, 12, 8],\n",
        "    [18, 5, 8, 7, 7, 9, 0, 8, 4],\n",
        "    [16, 14, 15, 14, 14, 12, 8, 0, 4],\n",
        "    [18, 9, 11, 10, 10, 8, 4, 4, 0]\n",
        "]\n",
        "\n",
        "# Time Windows\n",
        "# Evacuation time -> 8 AM - 9 AM\n",
        "# Evacuation time limit -> 1 hour (60 minutes)\n",
        "# Evacuation time span for each location is the same\n",
        "\n",
        "time_windows_a2 = [\n",
        "    (0, 0),  # depot A2\n",
        "    (0, 60),  # 6\n",
        "    (0, 60),  # 7\n",
        "    (0, 60),  # 8\n",
        "    (0, 60),  # 9\n",
        "    (0, 60),  # 10\n",
        "    (0, 60),  # 19\n",
        "    (0, 60),  # 26\n",
        "    (0, 60),  # 28\n",
        "]\n",
        "\n",
        "num_vehicles_a2 = 1\n",
        "\n",
        "max_time_per_vehicle_a2 = 60\n",
        "\n",
        "coordinate_loc_a2 = [\n",
        "    (7.69,8.55), # Depot\n",
        "    (9.79,7.69), # 6\n",
        "    (11.57,5.87), # 7\n",
        "    (11.13,3.69), # 8\n",
        "    (9.57,2.03), # 9\n",
        "    (7,2), # 10\n",
        "    (4.65,3.01), # 19\n",
        "    (4.03,5.37), # 26\n",
        "    (5.03,7.43) # 28\n",
        "]\n",
        "\n",
        "label_a2 = ['A2', 6, 7, 8, 9, 10, 19, 26, 28]\n"
      ],
      "metadata": {
        "id": "L15WNVp2ju_R"
      },
      "execution_count": null,
      "outputs": []
    },
    {
      "cell_type": "markdown",
      "source": [
        "Searching solution"
      ],
      "metadata": {
        "id": "byJDlWcUnTNG"
      }
    },
    {
      "cell_type": "code",
      "source": [
        "vprtw_a2 = VrptwSolver(time_matrix_a2, time_windows_a2, num_vehicles_a2, coordinate_loc_a2, label_a2) # Membuat objek solver dengan data yang telah ditentukan\n",
        "vprtw_a2.create_routing_model(max_time_per_vehicle_a2) # Membuat model perjalanan dengan batas waktu maksimal penyelesaian tiap kendaraan\n",
        "vprtw_a2.solve()"
      ],
      "metadata": {
        "colab": {
          "base_uri": "https://localhost:8080/",
          "height": 200
        },
        "id": "ow3yaj7NnVEB",
        "outputId": "055ea843-bd13-4c07-ce13-182f8cd78967"
      },
      "execution_count": null,
      "outputs": [
        {
          "output_type": "error",
          "ename": "NameError",
          "evalue": "ignored",
          "traceback": [
            "\u001b[0;31m---------------------------------------------------------------------------\u001b[0m",
            "\u001b[0;31mNameError\u001b[0m                                 Traceback (most recent call last)",
            "\u001b[0;32m<ipython-input-2-2e071ff84c8c>\u001b[0m in \u001b[0;36m<cell line: 1>\u001b[0;34m()\u001b[0m\n\u001b[0;32m----> 1\u001b[0;31m \u001b[0mvprtw_a2\u001b[0m \u001b[0;34m=\u001b[0m \u001b[0mVrptwSolver\u001b[0m\u001b[0;34m(\u001b[0m\u001b[0mtime_matrix_a2\u001b[0m\u001b[0;34m,\u001b[0m \u001b[0mtime_windows_a2\u001b[0m\u001b[0;34m,\u001b[0m \u001b[0mnum_vehicles_a2\u001b[0m\u001b[0;34m,\u001b[0m \u001b[0mcoordinate_loc_a2\u001b[0m\u001b[0;34m,\u001b[0m \u001b[0mlabel_a2\u001b[0m\u001b[0;34m)\u001b[0m \u001b[0;31m# Membuat objek solver dengan data yang telah ditentukan\u001b[0m\u001b[0;34m\u001b[0m\u001b[0;34m\u001b[0m\u001b[0m\n\u001b[0m\u001b[1;32m      2\u001b[0m \u001b[0mvprtw_a2\u001b[0m\u001b[0;34m.\u001b[0m\u001b[0mcreate_routing_model\u001b[0m\u001b[0;34m(\u001b[0m\u001b[0mmax_time_per_vehicle_a2\u001b[0m\u001b[0;34m)\u001b[0m \u001b[0;31m# Membuat model perjalanan dengan batas waktu maksimal penyelesaian tiap kendaraan\u001b[0m\u001b[0;34m\u001b[0m\u001b[0;34m\u001b[0m\u001b[0m\n\u001b[1;32m      3\u001b[0m \u001b[0mvprtw_a2\u001b[0m\u001b[0;34m.\u001b[0m\u001b[0msolve\u001b[0m\u001b[0;34m(\u001b[0m\u001b[0;34m)\u001b[0m\u001b[0;34m\u001b[0m\u001b[0;34m\u001b[0m\u001b[0m\n",
            "\u001b[0;31mNameError\u001b[0m: name 'VrptwSolver' is not defined"
          ]
        }
      ]
    },
    {
      "cell_type": "code",
      "source": [
        "# Tidak ada solusi untuk satu kendaraan\n",
        "# dapat melakukan perjalan dari depot A2 - menuju titik lokasi penjemputan - sampai kembali\n",
        "# lagi ke depot A2 dalam 1 jam\n",
        "# solusi menambah jumlah kendaraan\n",
        "\n",
        "num_vehicles_a2 = 2 # menambah jumlah kendaraan\n",
        "\n",
        "vprtw_a2 = VrptwSolver(time_matrix_a2, time_windows_a2, num_vehicles_a2, coordinate_loc_a2, label_a2) # Membuat objek solver dengan data yang telah ditentukan\n",
        "vprtw_a2.create_routing_model(max_time_per_vehicle_a2) # Membuat model perjalanan dengan batas waktu maksimal penyelesaian tiap kendaraan\n",
        "vprtw_a2.solve()"
      ],
      "metadata": {
        "id": "R0nsRMZUwBC2"
      },
      "execution_count": null,
      "outputs": []
    },
    {
      "cell_type": "markdown",
      "source": [
        "*Visualization*"
      ],
      "metadata": {
        "id": "4xuzkNKCwhSQ"
      }
    },
    {
      "cell_type": "code",
      "source": [
        "vprtw_a2.plot_route(arrow_size=0.3)"
      ],
      "metadata": {
        "id": "oAtUXRUGwi7t"
      },
      "execution_count": null,
      "outputs": []
    },
    {
      "cell_type": "markdown",
      "source": [
        "### III.3. Rute Tempat Evakuasi Akhir **Stadion Maguwoharjo (A4)**"
      ],
      "metadata": {
        "id": "6f-31GH8w3Yz"
      }
    },
    {
      "cell_type": "markdown",
      "source": [
        "*Data preparation*"
      ],
      "metadata": {
        "id": "FQqvUSo1zD7t"
      }
    },
    {
      "cell_type": "code",
      "source": [
        "# Time Matrix (in minutes)\n",
        "time_matrix_a4 = [\n",
        "    [0, 26, 18, 16],\n",
        "    [26, 0, 7, 8],\n",
        "    [18, 7, 0, 1],\n",
        "    [16, 8, 1, 0]\n",
        "]\n",
        "\n",
        "# Time Windows\n",
        "# Evacuation time -> 8 AM - 9 AM\n",
        "# Evacuation time limit -> 1 hour (60 minutes)\n",
        "# Evacuation time span for each location is the same\n",
        "\n",
        "time_windows_a4 = [\n",
        "    (0, 0),  # depot A4\n",
        "    (0, 60),  # 11\n",
        "    (0, 60),  # 27\n",
        "    (0, 60),  # 29\n",
        "]\n",
        "\n",
        "num_vehicles_a4 = 1\n",
        "\n",
        "max_time_per_vehicle_a4 = 60\n",
        "\n",
        "coordinate_loc_a4 = [\n",
        "    (4, 6), # Depot\n",
        "    (6.24,4.03), # 11\n",
        "    (4.22,1.76), # 27\n",
        "    (1.93,4.14) # 29\n",
        "\n",
        "]\n",
        "\n",
        "label_a4 = ['A4', 11, 27, 29]"
      ],
      "metadata": {
        "id": "A68MA3w3xEdj"
      },
      "execution_count": null,
      "outputs": []
    },
    {
      "cell_type": "markdown",
      "source": [
        "*Searching solution*"
      ],
      "metadata": {
        "id": "jVhO_K29zHYc"
      }
    },
    {
      "cell_type": "code",
      "source": [
        "vprtw_a4 = VrptwSolver(time_matrix_a4, time_windows_a4, num_vehicles_a4, coordinate_loc_a4, label_a4) # Membuat objek solver dengan data yang telah ditentukan\n",
        "vprtw_a4.create_routing_model(max_time_per_vehicle_a4) # Membuat model perjalanan dengan batas waktu maksimal penyelesaian tiap kendaraan\n",
        "vprtw_a4.solve()"
      ],
      "metadata": {
        "colab": {
          "base_uri": "https://localhost:8080/"
        },
        "id": "SskMgjNHzC03",
        "outputId": "cffad4a5-b64a-4213-ccbe-0583d8dfc917"
      },
      "execution_count": null,
      "outputs": [
        {
          "output_type": "stream",
          "name": "stdout",
          "text": [
            "Objective: 49\n",
            "\n",
            "Route for vehicle 0:\n",
            "A4 Time(0,0) -> 29 Time(16,16) -> 11 Time(24,24) -> 27 Time(31,31) -> A4 Time(49,49)\n",
            "Time of the route: 49min\n",
            "\n",
            "Total time of all routes: 49min\n"
          ]
        }
      ]
    },
    {
      "cell_type": "markdown",
      "source": [
        "*Visualization*"
      ],
      "metadata": {
        "id": "HaZEzn3EzYgc"
      }
    },
    {
      "cell_type": "code",
      "source": [
        "vprtw_a4.plot_route(arrow_size=0.1)"
      ],
      "metadata": {
        "colab": {
          "base_uri": "https://localhost:8080/"
        },
        "id": "-U1b_ySMzaic",
        "outputId": "8e1f6ead-be33-4665-8385-a60ae07ee46c"
      },
      "execution_count": null,
      "outputs": [
        {
          "output_type": "display_data",
          "data": {
            "text/plain": [
              "<Figure size 800x600 with 1 Axes>"
            ],
            "image/png": "[encoded data removed]"
          },
          "metadata": {}
        }
      ]
    },
    {
      "cell_type": "markdown",
      "source": [
        "### III.4. Rute Tempat Evakuasi Akhir **Barak Pengungsian Tirtomartani (A5)**"
      ],
      "metadata": {
        "id": "K9lGIczCz7bV"
      }
    },
    {
      "cell_type": "code",
      "source": [
        "# Time Matrix (in minutes)\n",
        "time_matrix_a5 = [\n",
        "    [0,23,21,26,22,22,23,26,15,14,9,14,10],\n",
        "    [23,0,2,7,11,12,5,5,5,16,7,19,16],\n",
        "    [21,2,0,8,9,10,4,4,7,15,5,17,15],\n",
        "    [26,7,8,0,9,10,9,10,5,18,12,19,18],\n",
        "    [22,11,9,9,0,5,10,10,13,10,10,11,13],\n",
        "    [22,12,10,10,5,0,9,12,16,7,8,8,11],\n",
        "    [23,5,4,9,10,9,0,6,6,13,9,16,9],\n",
        "    [26,5,4,10,10,12,6,0,12,18,15,20,15],\n",
        "    [15,5,7,5,13,16,6,12,0,20,5,22,4],\n",
        "    [14,16,15,18,10,7,13,18,20,0,12,5,5],\n",
        "    [9,7,5,12,10,8,9,15,5,12,0,14,1],\n",
        "    [14,19,17,19,11,8,16,20,22,5,14,0,6],\n",
        "    [10,16,15,18,13,11,9,15,4,5,1,6,0],\n",
        "]\n",
        "\n",
        "# Time Windows\n",
        "# Evacuation time -> 8 AM - 9 AM\n",
        "# Evacuation time limit -> 1 hour (60 minutes)\n",
        "# Evacuation time span for each location is the same\n",
        "\n",
        "time_windows_a5 = [\n",
        "    (0, 0),  # A5\n",
        "    (0, 60),  # 12\n",
        "    (0, 60),  # 13\n",
        "    (0, 60),  # 14\n",
        "    (0, 60),  # 15\n",
        "    (0, 60),  # 16\n",
        "    (0, 60),  # 17\n",
        "    (0, 60),  # 18\n",
        "    (0, 60),  # 30\n",
        "    (0, 60),  # 31\n",
        "    (0, 60),  # 32\n",
        "    (0, 60),  # 33\n",
        "    (0, 60),  # 34\n",
        "]\n",
        "\n",
        "num_vehicles_a5 = 1\n",
        "\n",
        "max_time_per_vehicle_a5 = 60\n",
        "\n",
        "coordinate_loc_a5 = [\n",
        "    (8.75,11.97), # Depot A5\n",
        "    (11.33,10.83), # 12\n",
        "    (13,9.1), # 13\n",
        "    (14.07,7.15), # 14\n",
        "    (14,4.1), # 15\n",
        "    (12.61,2.03), # 16\n",
        "    (9.47,1.17), # 17\n",
        "    (5.97,1.63), # 18\n",
        "    (3.81,3.23), # 30\n",
        "    (2.49,5.21), # 31\n",
        "    (2.9,8), # 32\n",
        "    (3.97,10.19), # 33\n",
        "    (5.99,11.37) # 34\n",
        "]\n",
        "\n",
        "label_a5 = ['A4', 12, 13, 14, 15, 16, 17, 18, 30, 31, 32, 33, 34]"
      ],
      "metadata": {
        "id": "4AVla7Km0HFn"
      },
      "execution_count": null,
      "outputs": []
    },
    {
      "cell_type": "code",
      "source": [
        "vprtw_a5 = VrptwSolver(time_matrix_a5, time_windows_a5, num_vehicles_a5, coordinate_loc_a5, label_a5) # Membuat objek solver dengan data yang telah ditentukan\n",
        "vprtw_a5.create_routing_model(max_time_per_vehicle_a5) # Membuat model perjalanan dengan batas waktu maksimal penyelesaian tiap kendaraan\n",
        "vprtw_a5.solve()"
      ],
      "metadata": {
        "colab": {
          "base_uri": "https://localhost:8080/"
        },
        "id": "5QPu-iqV-uwh",
        "outputId": "ac059d21-eac0-4b2a-8dac-ede21eb033b8"
      },
      "execution_count": null,
      "outputs": [
        {
          "output_type": "stream",
          "name": "stdout",
          "text": [
            "\n",
            "      Tidak ada solusi !\n",
            "\n",
            "      Saran:\n",
            "      Anda dapat menambahkan jendela waktu, waktu maksimum perjalanan tiap kendaraan atau\n",
            "      menambah jumlah kendaraan.\n"
          ]
        }
      ]
    },
    {
      "cell_type": "code",
      "source": [
        "# Tidak ada solusi untuk satu kendaraan\n",
        "# dapat melakukan perjalan dari depot A5 - menuju titik lokasi penjemputan - sampai kembali\n",
        "# lagi ke depot A5 dalam 1 jam\n",
        "# solusi menambah jumlah kendaraan\n",
        "\n",
        "num_vehicles_a5 = 2 # menambah jumlah kendaraan\n",
        "\n",
        "vprtw_a5 = VrptwSolver(time_matrix_a5, time_windows_a5, num_vehicles_a5, coordinate_loc_a5, label_a5) # Membuat objek solver dengan data yang telah ditentukan\n",
        "vprtw_a5.create_routing_model(max_time_per_vehicle_a5) # Membuat model perjalanan dengan batas waktu maksimal penyelesaian tiap kendaraan\n",
        "vprtw_a5.solve()"
      ],
      "metadata": {
        "colab": {
          "base_uri": "https://localhost:8080/"
        },
        "id": "kcnTjQQ8_B19",
        "outputId": "b865d6ea-faf4-4640-d5ad-c3d87c608c08"
      },
      "execution_count": null,
      "outputs": [
        {
          "output_type": "stream",
          "name": "stdout",
          "text": [
            "Objective: 106\n",
            "\n",
            "Route for vehicle 0:\n",
            "A4 Time(0,0) -> 32 Time(9,9) -> 13 Time(14,14) -> 12 Time(16,16) -> 18 Time(21,21) -> 17 Time(27,27) -> 34 Time(36,36) -> A4 Time(46,46)\n",
            "Time of the route: 46min\n",
            "\n",
            "Route for vehicle 1:\n",
            "A4 Time(0,0) -> 30 Time(15,15) -> 14 Time(20,20) -> 15 Time(29,29) -> 16 Time(34,34) -> 31 Time(41,41) -> 33 Time(46,46) -> A4 Time(60,60)\n",
            "Time of the route: 60min\n",
            "\n",
            "Total time of all routes: 106min\n"
          ]
        }
      ]
    },
    {
      "cell_type": "code",
      "source": [
        "vprtw_a5.plot_route(arrow_size=0.3)"
      ],
      "metadata": {
        "colab": {
          "base_uri": "https://localhost:8080/",
          "height": 545
        },
        "id": "Qyj-NawD_PhP",
        "outputId": "0809dd83-bcdb-4532-97fd-aff868314b2a"
      },
      "execution_count": null,
      "outputs": [
        {
          "output_type": "display_data",
          "data": {
            "text/plain": [
              "<Figure size 800x600 with 1 Axes>"
            ],
            "image/png": "[encoded data removed]"
          },
          "metadata": {}
        }
      ]
    },
    {
      "cell_type": "markdown",
      "source": [
        "### III.5. Rute Tempat Evakuasi Akhir Ternak **Pasar Agropolitas Purwobinangun (B1)**"
      ],
      "metadata": {
        "id": "XHCrYerM_hOX"
      }
    },
    {
      "cell_type": "code",
      "source": [
        "# Time Matrix (in minutes)\n",
        "time_matrix_b1 = [\n",
        "    [0, 36, 31, 30, 18, 22],\n",
        "    [36, 0, 20, 20, 29, 29],\n",
        "    [31, 20, 0, 4, 12, 22],\n",
        "    [30, 20, 4, 0, 17, 14],\n",
        "    [18, 29, 12, 17, 0, 6],\n",
        "    [22, 29, 22, 14, 6, 0]\n",
        "]\n",
        "\n",
        "# Time Windows\n",
        "# Evacuation time -> 8 AM - 10 AM\n",
        "# Evacuation time limit -> 1 hour (60 minutes)\n",
        "# Evacuation time span for each location is the same\n",
        "\n",
        "time_windows_b1 = [\n",
        "    (0, 0),  # depot B1\n",
        "    (0, 60),  # A\n",
        "    (0, 60),  # B\n",
        "    (0, 60),  # C\n",
        "    (0, 60),  # D\n",
        "    (0, 60),  # E\n",
        "]\n",
        "\n",
        "num_vehicles_b1 = 1\n",
        "\n",
        "max_time_per_vehicle_b1 = 60\n",
        "\n",
        "coordinate_loc_b1 = [\n",
        "    (4.88,6.51), # Depot B1\n",
        "    (7.38,5.17), # A\n",
        "    (7.84,2.39), # B\n",
        "    (4.86,1.11), # C\n",
        "    (1.84,2.39), # D\n",
        "    (2.32,5.13) # E\n",
        "]\n",
        "\n",
        "label_b1 = ['B1', 'A', 'B', 'C', 'D', 'E']"
      ],
      "metadata": {
        "id": "Fpup_4t__6kp"
      },
      "execution_count": null,
      "outputs": []
    },
    {
      "cell_type": "code",
      "source": [
        "vprtw_b1 = VrptwSolver(time_matrix_b1, time_windows_b1, num_vehicles_b1, coordinate_loc_b1, label_b1) # Membuat objek solver dengan data yang telah ditentukan\n",
        "vprtw_b1.create_routing_model(max_time_per_vehicle_b1) # Membuat model perjalanan dengan batas waktu maksimal penyelesaian tiap kendaraan\n",
        "vprtw_b1.solve()"
      ],
      "metadata": {
        "colab": {
          "base_uri": "https://localhost:8080/"
        },
        "id": "28uyx-MhCsca",
        "outputId": "789da586-1995-4483-cd5c-f8bbd6854398"
      },
      "execution_count": null,
      "outputs": [
        {
          "output_type": "stream",
          "name": "stdout",
          "text": [
            "\n",
            "      Tidak ada solusi !\n",
            "\n",
            "      Saran:\n",
            "      Anda dapat menambahkan jendela waktu, waktu maksimum perjalanan tiap kendaraan atau\n",
            "      menambah jumlah kendaraan.\n"
          ]
        }
      ]
    },
    {
      "cell_type": "code",
      "source": [
        "# Tidak ada solusi untuk satu kendaraan\n",
        "# dapat melakukan perjalan dari depot A5 - menuju titik lokasi penjemputan - sampai kembali\n",
        "# lagi ke depot A5 dalam 1 jam\n",
        "# solusi menambah jumlah kendaraan\n",
        "\n",
        "num_vehicles_b1 = 2 # menambah jumlah kendaraan\n",
        "\n",
        "vprtw_b1 = VrptwSolver(time_matrix_b1, time_windows_b1, num_vehicles_b1, coordinate_loc_b1, label_b1) # Membuat objek solver dengan data yang telah ditentukan\n",
        "vprtw_b1.create_routing_model(max_time_per_vehicle_b1) # Membuat model perjalanan dengan batas waktu maksimal penyelesaian tiap kendaraan\n",
        "vprtw_b1.solve()"
      ],
      "metadata": {
        "colab": {
          "base_uri": "https://localhost:8080/"
        },
        "id": "IRhGd-QSD4K2",
        "outputId": "d5b73fb4-5522-4f13-d846-0b0f37818634"
      },
      "execution_count": null,
      "outputs": [
        {
          "output_type": "stream",
          "name": "stdout",
          "text": [
            "\n",
            "      Tidak ada solusi !\n",
            "\n",
            "      Saran:\n",
            "      Anda dapat menambahkan jendela waktu, waktu maksimum perjalanan tiap kendaraan atau\n",
            "      menambah jumlah kendaraan.\n"
          ]
        }
      ]
    },
    {
      "cell_type": "code",
      "source": [
        "# Tidak ada solusi untuk dua kendaraan\n",
        "# dapat melakukan perjalan dari depot B1 - menuju titik lokasi penjemputan - sampai kembali\n",
        "# lagi ke depot B1 dalam 1 jam\n",
        "# solusi menambah batas waktu maksimal karena jarak depot ke titik terjauh (A) membutuhkan\n",
        "# waktu lebih dari 60 menit atau 1 jam (bolak-balik)\n",
        "\n",
        "max_time_per_vehicle_b1 = 90 # menambah maksimal waktu perjalanan menjadi 90 menit\n",
        "num_vehicles_b1 = 2\n",
        "\n",
        "vprtw_b1 = VrptwSolver(time_matrix_b1, time_windows_b1, num_vehicles_b1, coordinate_loc_b1, label_b1) # Membuat objek solver dengan data yang telah ditentukan\n",
        "vprtw_b1.create_routing_model(max_time_per_vehicle_b1) # Membuat model perjalanan dengan batas waktu maksimal penyelesaian tiap kendaraan\n",
        "vprtw_b1.solve()"
      ],
      "metadata": {
        "colab": {
          "base_uri": "https://localhost:8080/"
        },
        "id": "ifAm8_DDCmvQ",
        "outputId": "7c5100f0-366a-4f6c-9214-ea26d879f266"
      },
      "execution_count": null,
      "outputs": [
        {
          "output_type": "stream",
          "name": "stdout",
          "text": [
            "Objective: 136\n",
            "\n",
            "Route for vehicle 0:\n",
            "B1 Time(0,0) -> C Time(30,30) -> B Time(34,34) -> A Time(54,54) -> B1 Time(90,90)\n",
            "Time of the route: 90min\n",
            "\n",
            "Route for vehicle 1:\n",
            "B1 Time(0,0) -> E Time(22,22) -> D Time(28,28) -> B1 Time(46,46)\n",
            "Time of the route: 46min\n",
            "\n",
            "Total time of all routes: 136min\n"
          ]
        }
      ]
    },
    {
      "cell_type": "code",
      "source": [
        "vprtw_b1.plot_route(arrow_size=0.2)"
      ],
      "metadata": {
        "colab": {
          "base_uri": "https://localhost:8080/",
          "height": 545
        },
        "id": "MfWXifXrEJCd",
        "outputId": "4562a9a7-24a9-44c3-c9e1-22a1c7d2b073"
      },
      "execution_count": null,
      "outputs": [
        {
          "output_type": "display_data",
          "data": {
            "text/plain": [
              "<Figure size 800x600 with 1 Axes>"
            ],
            "image/png": "[encoded data removed]"
          },
          "metadata": {}
        }
      ]
    },
    {
      "cell_type": "markdown",
      "source": [
        "## **IV. Pemecahan Masalah**"
      ],
      "metadata": {
        "id": "Lm1rdMiSoStd"
      }
    },
    {
      "cell_type": "markdown",
      "source": [
        "### IV.1. Rute Tempat Evakuasi Akhir **Desa Banyu Rejo (A1)**"
      ],
      "metadata": {
        "id": "oy4QH0xpomp0"
      }
    },
    {
      "cell_type": "markdown",
      "source": [
        "#### 30 Menit"
      ],
      "metadata": {
        "id": "dFqv_GVpopKr"
      }
    },
    {
      "cell_type": "code",
      "source": [
        "# Dataset\n",
        "\n",
        "# Time\n",
        "time = 30\n",
        "# Time Matrix (in minutes)\n",
        "time_matrix_a1 = [[0, 18, 15, 11, 10, 10, 7],\n",
        "                  [18, 0, 3, 8, 11, 11, 11],\n",
        "                  [15, 3, 0, 5, 8, 8, 8],\n",
        "                  [11, 8, 5, 0, 5, 4, 4],\n",
        "                  [10, 11, 8, 5, 0, 1, 4],\n",
        "                  [10, 11, 8, 4, 1, 0, 4],\n",
        "                  [7, 11, 8, 4, 4, 4, 0]]\n",
        "# Time windows\n",
        "time_windows_a1 = [\n",
        "    (0, time),  # depot A1\n",
        "    (0, time),  # 20\n",
        "    (0, time),  # 21\n",
        "    (0, time),  # 22\n",
        "    (0, time),  # 23\n",
        "    (0, time),  # 24\n",
        "    (0, time),  # 25\n",
        "]\n",
        "# Coordinate\n",
        "coordinate_loc_a1 = [\n",
        "    (7, 8), # Depot\n",
        "    (9.81,7.01), # 20\n",
        "    (10.55,4.37), # 21\n",
        "    (7.63,2.13), # 22\n",
        "    (4.99,3.13), # 23\n",
        "    (3.38,4.94), # 24\n",
        "    (4.31,7.21) # 25\n",
        "]\n"
      ],
      "metadata": {
        "id": "ttivHXS8oxG8"
      },
      "execution_count": null,
      "outputs": []
    },
    {
      "cell_type": "code",
      "source": [
        "# Searching Solution\n",
        "\n",
        "# First iteration:\n",
        "# 1. Num Vehicle -> 1\n",
        "# 2. Max time windows -> 30\n",
        "# 3. Max time per vehicle -> 30\n",
        "\n",
        "# Number Vehicle\n",
        "num_vehicles_a1 = 1\n",
        "\n",
        "# Maximum time per vehicle\n",
        "max_time_per_vehicle_a1 = 30\n",
        "\n",
        "# Label\n",
        "label_a1 = ['A1', 20, 21, 22, 23, 24, 25]\n",
        "\n",
        "vprtw_a1 = VrptwSolver(time_matrix_a1, time_windows_a1, num_vehicles_a1, coordinate_loc_a1, label_a1) # Membuat objek solver dengan data yang telah ditentukan\n",
        "vprtw_a1.create_routing_model(max_time_per_vehicle_a1) # Membuat model perjalanan dengan batas waktu maksimal penyelesaian tiap kendaraan\n",
        "vprtw_a1.solve()"
      ],
      "metadata": {
        "colab": {
          "base_uri": "https://localhost:8080/"
        },
        "id": "qTATGSpvp8-g",
        "outputId": "e7627cf4-5b32-42fc-9c79-d096ba5865c5"
      },
      "execution_count": null,
      "outputs": [
        {
          "output_type": "stream",
          "name": "stdout",
          "text": [
            "\n",
            "      Tidak ada solusi !\n",
            "\n",
            "      Saran:\n",
            "      Anda dapat menambahkan jendela waktu, waktu maksimum perjalanan tiap kendaraan atau\n",
            "      menambah jumlah kendaraan.\n"
          ]
        }
      ]
    },
    {
      "cell_type": "code",
      "source": [
        "# Searching Solution\n",
        "\n",
        "# Second iteration:\n",
        "# 1. Num Vehicle -> 1\n",
        "# 2. Max time windows -> 30\n",
        "# 3. Max time per vehicle -> 45\n",
        "\n",
        "# Number Vehicle\n",
        "num_vehicles_a1 = 1\n",
        "\n",
        "# Maximum time per vehicle\n",
        "max_time_per_vehicle_a1 = 45\n",
        "\n",
        "# Label\n",
        "label_a1 = ['A1', 20, 21, 22, 23, 24, 25]\n",
        "\n",
        "vprtw_a1 = VrptwSolver(time_matrix_a1, time_windows_a1, num_vehicles_a1, coordinate_loc_a1, label_a1) # Membuat objek solver dengan data yang telah ditentukan\n",
        "vprtw_a1.create_routing_model(max_time_per_vehicle_a1) # Membuat model perjalanan dengan batas waktu maksimal penyelesaian tiap kendaraan\n",
        "vprtw_a1.solve()"
      ],
      "metadata": {
        "colab": {
          "base_uri": "https://localhost:8080/"
        },
        "id": "bky3kKuXrFaa",
        "outputId": "d90a95d1-7e2f-429b-915a-af144dde0fb8"
      },
      "execution_count": null,
      "outputs": [
        {
          "output_type": "stream",
          "name": "stdout",
          "text": [
            "Objective: 42\n",
            "\n",
            "Route for vehicle 0:\n",
            "A1 Time(0,0) -> 25 Time(7,7) -> 23 Time(11,11) -> 24 Time(12,12) -> 22 Time(16,16) -> 21 Time(21,21) -> 20 Time(24,24) -> A1 Time(42,42)\n",
            "Time of the route: 42min\n",
            "\n",
            "Total time of all routes: 42min\n"
          ]
        }
      ]
    },
    {
      "cell_type": "markdown",
      "source": [
        "Keterangan:\n",
        "- Waktu tercepat dengan solusi yang paling optimal dari proses evakuasi (jika dihitung dari depot sampai kembali ke depot) adalah **42 menit**. Tidak ditemukan solusi jika waktu evakuasi ditetapkan **30 menit**.<br>\n",
        "Mengapa tidak ada solusi? Ini disebabkan karena waktu tempuh dari depot ke suatu titik tertentu dan kembali lagi ke dpot dibutuhkan waktu lebih dari 30 menit. <br>\n",
        "Misal pada data waktu tempuh antara depot ke titik 20 adalah **18 menit**. Artinya kendaraan saat melakukan evakuasi membutuhkan waktu paling cepat **36 menit**. depot -> titik 20 (18 menit) dan titik 20 -> depot (18 menit)"
      ],
      "metadata": {
        "id": "sSAjdp-tsV6o"
      }
    }
  ]
}